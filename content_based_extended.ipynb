{
 "cells": [
  {
   "cell_type": "code",
   "execution_count": 1,
   "id": "f8af5b64-7dcd-4f5d-8b69-f80c3869d2d6",
   "metadata": {},
   "outputs": [
    {
     "data": {
      "text/plain": [
       "(100000, 3)"
      ]
     },
     "execution_count": 1,
     "metadata": {},
     "output_type": "execute_result"
    }
   ],
   "source": [
    "import pandas as pd\n",
    "\n",
    "# URL for the MovieLens 100K dataset\n",
    "url = \"http://files.grouplens.org/datasets/movielens/ml-100k/u.data\"\n",
    "\n",
    "# Define column names for the dataset\n",
    "columns = [\"user_id\", \"item_id\", \"rating\", \"timestamp\"]\n",
    "\n",
    "# Read the dataset directly from the URL into a Pandas DataFrame\n",
    "df = pd.read_csv(url, sep=\"\\t\", names=columns)\n",
    "df = df.drop('timestamp', axis = 1)\n",
    "df.shape"
   ]
  },
  {
   "cell_type": "code",
   "execution_count": 2,
   "id": "6303acdf-5957-4d2b-9f48-f80a35a7519c",
   "metadata": {},
   "outputs": [
    {
     "name": "stdout",
     "output_type": "stream",
     "text": [
      "(1682, 21)\n"
     ]
    }
   ],
   "source": [
    "movies_url = \"http://files.grouplens.org/datasets/movielens/ml-100k/u.item\"\n",
    "movies_columns = [\"movie_id\", \"title\", \"release_date\", \"video_release_date\",\n",
    "                  \"imdb_url\", \"unknown\", \"Action\", \"Adventure\", \"Animation\", \n",
    "                  \"Children's\", \"Comedy\", \"Crime\", \"Documentary\", \"Drama\", \n",
    "                  \"Fantasy\", \"Film-Noir\", \"Horror\", \"Musical\", \"Mystery\", \n",
    "                  \"Romance\", \"Sci-Fi\", \"Thriller\", \"War\", \"Western\"]\n",
    "\n",
    "movies_df = pd.read_csv(movies_url, sep=\"|\", names=movies_columns, encoding=\"latin-1\")\n",
    "movies_df = movies_df.drop(columns = [\"release_date\", \"video_release_date\",\n",
    "                  \"imdb_url\"], axis = 1)\n",
    "print(movies_df.shape)"
   ]
  },
  {
   "cell_type": "code",
   "execution_count": 3,
   "id": "14ad94a5-8e19-4492-822a-358621aafc50",
   "metadata": {},
   "outputs": [
    {
     "data": {
      "text/plain": [
       "(100000, 24)"
      ]
     },
     "execution_count": 3,
     "metadata": {},
     "output_type": "execute_result"
    }
   ],
   "source": [
    "merged_df = pd.merge(df, movies_df, left_on=\"item_id\", right_on=\"movie_id\")\n",
    "merged_df.shape"
   ]
  },
  {
   "cell_type": "code",
   "execution_count": 4,
   "id": "a628c71f-7571-4c64-94e9-684e71e5a0ec",
   "metadata": {},
   "outputs": [
    {
     "data": {
      "text/plain": [
       "(272, 24)"
      ]
     },
     "execution_count": 4,
     "metadata": {},
     "output_type": "execute_result"
    }
   ],
   "source": [
    "user1_df = merged_df[merged_df[\"user_id\"] == 1]\n",
    "user1_df.shape"
   ]
  },
  {
   "cell_type": "code",
   "execution_count": 5,
   "id": "245285c6-349e-4277-96d9-5492bc64b68a",
   "metadata": {},
   "outputs": [
    {
     "name": "stdout",
     "output_type": "stream",
     "text": [
      "(272, 19)\n",
      "(272,)\n"
     ]
    }
   ],
   "source": [
    "genres = user1_df.columns[5:]\n",
    "X = user1_df[genres]\n",
    "y = user1_df[\"rating\"]\n",
    "print(X.shape)\n",
    "print(y.shape)"
   ]
  },
  {
   "cell_type": "code",
   "execution_count": 6,
   "id": "11a1e556-4d5e-44ed-9b5e-cc236a614bd1",
   "metadata": {},
   "outputs": [],
   "source": [
    "from sklearn.model_selection import train_test_split\n",
    "X_train, X_test, y_train, y_test = train_test_split(X, y, test_size = 0.05, random_state = 42)"
   ]
  },
  {
   "cell_type": "code",
   "execution_count": 7,
   "id": "9c11f0b7-70ca-4862-9ac7-921a2c1a3af7",
   "metadata": {},
   "outputs": [],
   "source": [
    "# No need to transform this data its already One-hot encoded for us :)\n",
    "\n",
    "from sklearn.ensemble import RandomForestRegressor\n",
    "from sklearn.metrics import mean_squared_error\n",
    "import numpy as np\n",
    "\n",
    "model = RandomForestRegressor()\n",
    "model.fit(X_train, y_train)\n",
    "\n",
    "y_pred = model.predict(X_test)\n",
    "\n",
    "score = mean_squared_error(y_test, y_pred)\n",
    "score = np.sqrt"
   ]
  },
  {
   "cell_type": "code",
   "execution_count": 8,
   "id": "ebd38c29-8aef-4f3f-90ba-310a658052aa",
   "metadata": {},
   "outputs": [
    {
     "data": {
      "text/plain": [
       "array([[3, 4, 4, 3, 3, 4, 4, 5, 3, 1, 1, 1, 3, 5]])"
      ]
     },
     "execution_count": 8,
     "metadata": {},
     "output_type": "execute_result"
    }
   ],
   "source": [
    "y_test = np.array(y_test).reshape(1,-1)\n",
    "y_test"
   ]
  },
  {
   "cell_type": "code",
   "execution_count": 9,
   "id": "f86572c5-c617-4688-94e6-2a434b6229ae",
   "metadata": {},
   "outputs": [
    {
     "data": {
      "text/plain": [
       "array([3.81309477, 3.88407476, 4.42843651, 3.29885386, 3.81309477,\n",
       "       1.69390476, 4.42843651, 1.69390476, 4.03106559, 3.66809337,\n",
       "       2.327     , 1.19      , 3.65788185, 4.94763226])"
      ]
     },
     "execution_count": 9,
     "metadata": {},
     "output_type": "execute_result"
    }
   ],
   "source": [
    "y_pred"
   ]
  },
  {
   "cell_type": "code",
   "execution_count": 10,
   "id": "37fa2f44-66d1-4dff-88af-2b5c4e9f64c1",
   "metadata": {},
   "outputs": [],
   "source": [
    "\n",
    "y_test = y_test.reshape(-1,1)\n",
    "y_pred = y_pred.reshape(-1,1)\n",
    "results = pd.DataFrame(np.hstack((y_pred,y_test)), columns = [\"Pred\", \"Actual\"])\n",
    "results[\"Error\"] = np.abs(results[\"Pred\"] - results[\"Actual\"])"
   ]
  },
  {
   "cell_type": "code",
   "execution_count": 11,
   "id": "0ce780f6-63a1-4824-a3a8-6e60d64546b1",
   "metadata": {},
   "outputs": [
    {
     "data": {
      "text/html": [
       "<div>\n",
       "<style scoped>\n",
       "    .dataframe tbody tr th:only-of-type {\n",
       "        vertical-align: middle;\n",
       "    }\n",
       "\n",
       "    .dataframe tbody tr th {\n",
       "        vertical-align: top;\n",
       "    }\n",
       "\n",
       "    .dataframe thead th {\n",
       "        text-align: right;\n",
       "    }\n",
       "</style>\n",
       "<table border=\"1\" class=\"dataframe\">\n",
       "  <thead>\n",
       "    <tr style=\"text-align: right;\">\n",
       "      <th></th>\n",
       "      <th>Pred</th>\n",
       "      <th>Actual</th>\n",
       "      <th>Error</th>\n",
       "    </tr>\n",
       "  </thead>\n",
       "  <tbody>\n",
       "    <tr>\n",
       "      <th>0</th>\n",
       "      <td>3.813095</td>\n",
       "      <td>3.0</td>\n",
       "      <td>0.813095</td>\n",
       "    </tr>\n",
       "    <tr>\n",
       "      <th>1</th>\n",
       "      <td>3.884075</td>\n",
       "      <td>4.0</td>\n",
       "      <td>0.115925</td>\n",
       "    </tr>\n",
       "    <tr>\n",
       "      <th>2</th>\n",
       "      <td>4.428437</td>\n",
       "      <td>4.0</td>\n",
       "      <td>0.428437</td>\n",
       "    </tr>\n",
       "    <tr>\n",
       "      <th>3</th>\n",
       "      <td>3.298854</td>\n",
       "      <td>3.0</td>\n",
       "      <td>0.298854</td>\n",
       "    </tr>\n",
       "    <tr>\n",
       "      <th>4</th>\n",
       "      <td>3.813095</td>\n",
       "      <td>3.0</td>\n",
       "      <td>0.813095</td>\n",
       "    </tr>\n",
       "    <tr>\n",
       "      <th>5</th>\n",
       "      <td>1.693905</td>\n",
       "      <td>4.0</td>\n",
       "      <td>2.306095</td>\n",
       "    </tr>\n",
       "    <tr>\n",
       "      <th>6</th>\n",
       "      <td>4.428437</td>\n",
       "      <td>4.0</td>\n",
       "      <td>0.428437</td>\n",
       "    </tr>\n",
       "    <tr>\n",
       "      <th>7</th>\n",
       "      <td>1.693905</td>\n",
       "      <td>5.0</td>\n",
       "      <td>3.306095</td>\n",
       "    </tr>\n",
       "    <tr>\n",
       "      <th>8</th>\n",
       "      <td>4.031066</td>\n",
       "      <td>3.0</td>\n",
       "      <td>1.031066</td>\n",
       "    </tr>\n",
       "    <tr>\n",
       "      <th>9</th>\n",
       "      <td>3.668093</td>\n",
       "      <td>1.0</td>\n",
       "      <td>2.668093</td>\n",
       "    </tr>\n",
       "    <tr>\n",
       "      <th>10</th>\n",
       "      <td>2.327000</td>\n",
       "      <td>1.0</td>\n",
       "      <td>1.327000</td>\n",
       "    </tr>\n",
       "    <tr>\n",
       "      <th>11</th>\n",
       "      <td>1.190000</td>\n",
       "      <td>1.0</td>\n",
       "      <td>0.190000</td>\n",
       "    </tr>\n",
       "    <tr>\n",
       "      <th>12</th>\n",
       "      <td>3.657882</td>\n",
       "      <td>3.0</td>\n",
       "      <td>0.657882</td>\n",
       "    </tr>\n",
       "    <tr>\n",
       "      <th>13</th>\n",
       "      <td>4.947632</td>\n",
       "      <td>5.0</td>\n",
       "      <td>0.052368</td>\n",
       "    </tr>\n",
       "  </tbody>\n",
       "</table>\n",
       "</div>"
      ],
      "text/plain": [
       "        Pred  Actual     Error\n",
       "0   3.813095     3.0  0.813095\n",
       "1   3.884075     4.0  0.115925\n",
       "2   4.428437     4.0  0.428437\n",
       "3   3.298854     3.0  0.298854\n",
       "4   3.813095     3.0  0.813095\n",
       "5   1.693905     4.0  2.306095\n",
       "6   4.428437     4.0  0.428437\n",
       "7   1.693905     5.0  3.306095\n",
       "8   4.031066     3.0  1.031066\n",
       "9   3.668093     1.0  2.668093\n",
       "10  2.327000     1.0  1.327000\n",
       "11  1.190000     1.0  0.190000\n",
       "12  3.657882     3.0  0.657882\n",
       "13  4.947632     5.0  0.052368"
      ]
     },
     "execution_count": 11,
     "metadata": {},
     "output_type": "execute_result"
    }
   ],
   "source": [
    "results"
   ]
  },
  {
   "cell_type": "markdown",
   "id": "89f128a3-2023-455e-bce4-62482367d538",
   "metadata": {},
   "source": [
    "# START HERE"
   ]
  },
  {
   "cell_type": "markdown",
   "id": "df44650c-9259-4b51-a005-46965642a15d",
   "metadata": {},
   "source": [
    "# Recommend a Movie User Hasn't Seen:"
   ]
  },
  {
   "cell_type": "code",
   "execution_count": 12,
   "id": "bd1a6d28-fb90-4b82-87d0-bea8bc3e62fb",
   "metadata": {},
   "outputs": [
    {
     "data": {
      "text/plain": [
       "(100000, 24)"
      ]
     },
     "execution_count": 12,
     "metadata": {},
     "output_type": "execute_result"
    }
   ],
   "source": [
    "merged_df.shape"
   ]
  },
  {
   "cell_type": "code",
   "execution_count": 13,
   "id": "32b96ac7-000c-4a98-87cd-f19508d71567",
   "metadata": {},
   "outputs": [
    {
     "data": {
      "text/html": [
       "<div>\n",
       "<style scoped>\n",
       "    .dataframe tbody tr th:only-of-type {\n",
       "        vertical-align: middle;\n",
       "    }\n",
       "\n",
       "    .dataframe tbody tr th {\n",
       "        vertical-align: top;\n",
       "    }\n",
       "\n",
       "    .dataframe thead th {\n",
       "        text-align: right;\n",
       "    }\n",
       "</style>\n",
       "<table border=\"1\" class=\"dataframe\">\n",
       "  <thead>\n",
       "    <tr style=\"text-align: right;\">\n",
       "      <th></th>\n",
       "      <th>user_id</th>\n",
       "      <th>item_id</th>\n",
       "      <th>rating</th>\n",
       "      <th>movie_id</th>\n",
       "      <th>title</th>\n",
       "      <th>unknown</th>\n",
       "      <th>Action</th>\n",
       "      <th>Adventure</th>\n",
       "      <th>Animation</th>\n",
       "      <th>Children's</th>\n",
       "      <th>...</th>\n",
       "      <th>Fantasy</th>\n",
       "      <th>Film-Noir</th>\n",
       "      <th>Horror</th>\n",
       "      <th>Musical</th>\n",
       "      <th>Mystery</th>\n",
       "      <th>Romance</th>\n",
       "      <th>Sci-Fi</th>\n",
       "      <th>Thriller</th>\n",
       "      <th>War</th>\n",
       "      <th>Western</th>\n",
       "    </tr>\n",
       "  </thead>\n",
       "  <tbody>\n",
       "    <tr>\n",
       "      <th>0</th>\n",
       "      <td>196</td>\n",
       "      <td>242</td>\n",
       "      <td>3</td>\n",
       "      <td>242</td>\n",
       "      <td>Kolya (1996)</td>\n",
       "      <td>0</td>\n",
       "      <td>0</td>\n",
       "      <td>0</td>\n",
       "      <td>0</td>\n",
       "      <td>0</td>\n",
       "      <td>...</td>\n",
       "      <td>0</td>\n",
       "      <td>0</td>\n",
       "      <td>0</td>\n",
       "      <td>0</td>\n",
       "      <td>0</td>\n",
       "      <td>0</td>\n",
       "      <td>0</td>\n",
       "      <td>0</td>\n",
       "      <td>0</td>\n",
       "      <td>0</td>\n",
       "    </tr>\n",
       "    <tr>\n",
       "      <th>1</th>\n",
       "      <td>63</td>\n",
       "      <td>242</td>\n",
       "      <td>3</td>\n",
       "      <td>242</td>\n",
       "      <td>Kolya (1996)</td>\n",
       "      <td>0</td>\n",
       "      <td>0</td>\n",
       "      <td>0</td>\n",
       "      <td>0</td>\n",
       "      <td>0</td>\n",
       "      <td>...</td>\n",
       "      <td>0</td>\n",
       "      <td>0</td>\n",
       "      <td>0</td>\n",
       "      <td>0</td>\n",
       "      <td>0</td>\n",
       "      <td>0</td>\n",
       "      <td>0</td>\n",
       "      <td>0</td>\n",
       "      <td>0</td>\n",
       "      <td>0</td>\n",
       "    </tr>\n",
       "    <tr>\n",
       "      <th>2</th>\n",
       "      <td>226</td>\n",
       "      <td>242</td>\n",
       "      <td>5</td>\n",
       "      <td>242</td>\n",
       "      <td>Kolya (1996)</td>\n",
       "      <td>0</td>\n",
       "      <td>0</td>\n",
       "      <td>0</td>\n",
       "      <td>0</td>\n",
       "      <td>0</td>\n",
       "      <td>...</td>\n",
       "      <td>0</td>\n",
       "      <td>0</td>\n",
       "      <td>0</td>\n",
       "      <td>0</td>\n",
       "      <td>0</td>\n",
       "      <td>0</td>\n",
       "      <td>0</td>\n",
       "      <td>0</td>\n",
       "      <td>0</td>\n",
       "      <td>0</td>\n",
       "    </tr>\n",
       "    <tr>\n",
       "      <th>3</th>\n",
       "      <td>154</td>\n",
       "      <td>242</td>\n",
       "      <td>3</td>\n",
       "      <td>242</td>\n",
       "      <td>Kolya (1996)</td>\n",
       "      <td>0</td>\n",
       "      <td>0</td>\n",
       "      <td>0</td>\n",
       "      <td>0</td>\n",
       "      <td>0</td>\n",
       "      <td>...</td>\n",
       "      <td>0</td>\n",
       "      <td>0</td>\n",
       "      <td>0</td>\n",
       "      <td>0</td>\n",
       "      <td>0</td>\n",
       "      <td>0</td>\n",
       "      <td>0</td>\n",
       "      <td>0</td>\n",
       "      <td>0</td>\n",
       "      <td>0</td>\n",
       "    </tr>\n",
       "    <tr>\n",
       "      <th>4</th>\n",
       "      <td>306</td>\n",
       "      <td>242</td>\n",
       "      <td>5</td>\n",
       "      <td>242</td>\n",
       "      <td>Kolya (1996)</td>\n",
       "      <td>0</td>\n",
       "      <td>0</td>\n",
       "      <td>0</td>\n",
       "      <td>0</td>\n",
       "      <td>0</td>\n",
       "      <td>...</td>\n",
       "      <td>0</td>\n",
       "      <td>0</td>\n",
       "      <td>0</td>\n",
       "      <td>0</td>\n",
       "      <td>0</td>\n",
       "      <td>0</td>\n",
       "      <td>0</td>\n",
       "      <td>0</td>\n",
       "      <td>0</td>\n",
       "      <td>0</td>\n",
       "    </tr>\n",
       "  </tbody>\n",
       "</table>\n",
       "<p>5 rows × 24 columns</p>\n",
       "</div>"
      ],
      "text/plain": [
       "   user_id  item_id  rating  movie_id         title  unknown  Action  \\\n",
       "0      196      242       3       242  Kolya (1996)        0       0   \n",
       "1       63      242       3       242  Kolya (1996)        0       0   \n",
       "2      226      242       5       242  Kolya (1996)        0       0   \n",
       "3      154      242       3       242  Kolya (1996)        0       0   \n",
       "4      306      242       5       242  Kolya (1996)        0       0   \n",
       "\n",
       "   Adventure  Animation  Children's  ...  Fantasy  Film-Noir  Horror  Musical  \\\n",
       "0          0          0           0  ...        0          0       0        0   \n",
       "1          0          0           0  ...        0          0       0        0   \n",
       "2          0          0           0  ...        0          0       0        0   \n",
       "3          0          0           0  ...        0          0       0        0   \n",
       "4          0          0           0  ...        0          0       0        0   \n",
       "\n",
       "   Mystery  Romance  Sci-Fi  Thriller  War  Western  \n",
       "0        0        0       0         0    0        0  \n",
       "1        0        0       0         0    0        0  \n",
       "2        0        0       0         0    0        0  \n",
       "3        0        0       0         0    0        0  \n",
       "4        0        0       0         0    0        0  \n",
       "\n",
       "[5 rows x 24 columns]"
      ]
     },
     "execution_count": 13,
     "metadata": {},
     "output_type": "execute_result"
    }
   ],
   "source": [
    "merged_df.head()"
   ]
  },
  {
   "cell_type": "code",
   "execution_count": 14,
   "id": "9ed85b54-f5c3-40d7-a254-994b24787cc1",
   "metadata": {},
   "outputs": [],
   "source": [
    "# find movies they've seen\n",
    "seen_movies = merged_df[merged_df['user_id'] == 1]['item_id']\n",
    "\n",
    "# remove them\n",
    "unseen_df = merged_df[~merged_df['item_id'].isin(seen_movies)]"
   ]
  },
  {
   "cell_type": "code",
   "execution_count": 15,
   "id": "d58fc9ae-ddab-4211-95e9-ecc378ab1baa",
   "metadata": {},
   "outputs": [
    {
     "data": {
      "text/plain": [
       "(58166, 24)"
      ]
     },
     "execution_count": 15,
     "metadata": {},
     "output_type": "execute_result"
    }
   ],
   "source": [
    "unseen_df.shape"
   ]
  },
  {
   "cell_type": "code",
   "execution_count": 16,
   "id": "359dd094-8d20-4ab6-a6ab-8ef620c6cbe1",
   "metadata": {},
   "outputs": [
    {
     "data": {
      "text/plain": [
       "(1410, 24)"
      ]
     },
     "execution_count": 16,
     "metadata": {},
     "output_type": "execute_result"
    }
   ],
   "source": [
    "# pull first result just to have a list of movies\n",
    "unseen_df = unseen_df.groupby(\"item_id\").first().reset_index()\n",
    "unseen_df.shape"
   ]
  },
  {
   "cell_type": "code",
   "execution_count": 17,
   "id": "ce0b1dca-2696-4ef8-8ccb-edea492b5f98",
   "metadata": {},
   "outputs": [
    {
     "name": "stdout",
     "output_type": "stream",
     "text": [
      "(1410, 19)\n"
     ]
    }
   ],
   "source": [
    "# extract the features\n",
    "unseen_genres = unseen_df.columns[5:]\n",
    "unseen_X = unseen_df[genres]\n",
    "print(unseen_X.shape)"
   ]
  },
  {
   "cell_type": "code",
   "execution_count": 18,
   "id": "328af2d0-9375-45d5-b789-e47e7613e07c",
   "metadata": {},
   "outputs": [
    {
     "data": {
      "text/plain": [
       "304"
      ]
     },
     "execution_count": 18,
     "metadata": {},
     "output_type": "execute_result"
    }
   ],
   "source": [
    "# predict based on these features, find the max\n",
    "ratings = model.predict(unseen_X)\n",
    "ratings.argmax()"
   ]
  },
  {
   "cell_type": "code",
   "execution_count": 19,
   "id": "e66a4106-b12f-4636-93f4-623eca9386cf",
   "metadata": {},
   "outputs": [
    {
     "data": {
      "text/plain": [
       "4.94763225530092"
      ]
     },
     "execution_count": 19,
     "metadata": {},
     "output_type": "execute_result"
    }
   ],
   "source": [
    "ratings[304]"
   ]
  },
  {
   "cell_type": "code",
   "execution_count": 20,
   "id": "6d4c3515-e9ef-4484-9e07-507fc78b25d5",
   "metadata": {},
   "outputs": [
    {
     "data": {
      "text/plain": [
       "item_id                     577\n",
       "user_id                     299\n",
       "rating                        3\n",
       "movie_id                    577\n",
       "title          Coneheads (1993)\n",
       "unknown                       0\n",
       "Action                        0\n",
       "Adventure                     0\n",
       "Animation                     0\n",
       "Children's                    0\n",
       "Comedy                        1\n",
       "Crime                         0\n",
       "Documentary                   0\n",
       "Drama                         0\n",
       "Fantasy                       0\n",
       "Film-Noir                     0\n",
       "Horror                        0\n",
       "Musical                       0\n",
       "Mystery                       0\n",
       "Romance                       0\n",
       "Sci-Fi                        1\n",
       "Thriller                      0\n",
       "War                           0\n",
       "Western                       0\n",
       "Name: 304, dtype: object"
      ]
     },
     "execution_count": 20,
     "metadata": {},
     "output_type": "execute_result"
    }
   ],
   "source": [
    "unseen_df.iloc[304,:]\n",
    "# ROTTEN TOMATOES THIS"
   ]
  },
  {
   "cell_type": "code",
   "execution_count": 21,
   "id": "6695a4e7-578b-4584-8401-961c643cd27d",
   "metadata": {},
   "outputs": [
    {
     "data": {
      "text/plain": [
       "array([1.115     , 1.115     , 1.115     , ..., 4.94763226, 4.94763226,\n",
       "       4.94763226])"
      ]
     },
     "execution_count": 21,
     "metadata": {},
     "output_type": "execute_result"
    }
   ],
   "source": [
    "ratings.sort()\n",
    "ratings "
   ]
  },
  {
   "cell_type": "markdown",
   "id": "96b76649-dd0e-4371-bb80-c99a875f5918",
   "metadata": {},
   "source": [
    "# Make this better by accounting for quality?\n",
    "\n",
    "- Use general consensus on a movie as a stand in for quality\n",
    "- Simpler version of collaborative filtering - using other people's ratings to guide our recommendation\n",
    "- Collaborative does a better job -- consensus on a movie by SIMILAR users "
   ]
  },
  {
   "cell_type": "code",
   "execution_count": 22,
   "id": "aa88c374-bc01-496d-8abf-e24c13caf95f",
   "metadata": {},
   "outputs": [
    {
     "name": "stderr",
     "output_type": "stream",
     "text": [
      "/var/folders/22/y06w1gk96hx1hj0kj0zt3pcw0000gn/T/ipykernel_12917/3401258405.py:2: FutureWarning: The default value of numeric_only in DataFrameGroupBy.mean is deprecated. In a future version, numeric_only will default to False. Either specify numeric_only or select only columns which should be valid for the function.\n",
      "  avg_ratings = merged_df.groupby(\"item_id\").mean().reset_index()\n"
     ]
    }
   ],
   "source": [
    "# extract average ratings\n",
    "avg_ratings = merged_df.groupby(\"item_id\").mean().reset_index()\n",
    "avg_ratings = avg_ratings[[\"item_id\", \"rating\"]]\n",
    "avg_ratings.rename(columns = {\"rating\":\"avg_rating\"}, inplace = True)"
   ]
  },
  {
   "cell_type": "code",
   "execution_count": 23,
   "id": "e54129f6-a5b8-4a7b-b4d1-e1e6747ce0a0",
   "metadata": {},
   "outputs": [
    {
     "data": {
      "text/html": [
       "<div>\n",
       "<style scoped>\n",
       "    .dataframe tbody tr th:only-of-type {\n",
       "        vertical-align: middle;\n",
       "    }\n",
       "\n",
       "    .dataframe tbody tr th {\n",
       "        vertical-align: top;\n",
       "    }\n",
       "\n",
       "    .dataframe thead th {\n",
       "        text-align: right;\n",
       "    }\n",
       "</style>\n",
       "<table border=\"1\" class=\"dataframe\">\n",
       "  <thead>\n",
       "    <tr style=\"text-align: right;\">\n",
       "      <th></th>\n",
       "      <th>item_id</th>\n",
       "      <th>avg_rating</th>\n",
       "    </tr>\n",
       "  </thead>\n",
       "  <tbody>\n",
       "    <tr>\n",
       "      <th>0</th>\n",
       "      <td>1</td>\n",
       "      <td>3.878319</td>\n",
       "    </tr>\n",
       "    <tr>\n",
       "      <th>1</th>\n",
       "      <td>2</td>\n",
       "      <td>3.206107</td>\n",
       "    </tr>\n",
       "    <tr>\n",
       "      <th>2</th>\n",
       "      <td>3</td>\n",
       "      <td>3.033333</td>\n",
       "    </tr>\n",
       "    <tr>\n",
       "      <th>3</th>\n",
       "      <td>4</td>\n",
       "      <td>3.550239</td>\n",
       "    </tr>\n",
       "    <tr>\n",
       "      <th>4</th>\n",
       "      <td>5</td>\n",
       "      <td>3.302326</td>\n",
       "    </tr>\n",
       "    <tr>\n",
       "      <th>...</th>\n",
       "      <td>...</td>\n",
       "      <td>...</td>\n",
       "    </tr>\n",
       "    <tr>\n",
       "      <th>1677</th>\n",
       "      <td>1678</td>\n",
       "      <td>1.000000</td>\n",
       "    </tr>\n",
       "    <tr>\n",
       "      <th>1678</th>\n",
       "      <td>1679</td>\n",
       "      <td>3.000000</td>\n",
       "    </tr>\n",
       "    <tr>\n",
       "      <th>1679</th>\n",
       "      <td>1680</td>\n",
       "      <td>2.000000</td>\n",
       "    </tr>\n",
       "    <tr>\n",
       "      <th>1680</th>\n",
       "      <td>1681</td>\n",
       "      <td>3.000000</td>\n",
       "    </tr>\n",
       "    <tr>\n",
       "      <th>1681</th>\n",
       "      <td>1682</td>\n",
       "      <td>3.000000</td>\n",
       "    </tr>\n",
       "  </tbody>\n",
       "</table>\n",
       "<p>1682 rows × 2 columns</p>\n",
       "</div>"
      ],
      "text/plain": [
       "      item_id  avg_rating\n",
       "0           1    3.878319\n",
       "1           2    3.206107\n",
       "2           3    3.033333\n",
       "3           4    3.550239\n",
       "4           5    3.302326\n",
       "...       ...         ...\n",
       "1677     1678    1.000000\n",
       "1678     1679    3.000000\n",
       "1679     1680    2.000000\n",
       "1680     1681    3.000000\n",
       "1681     1682    3.000000\n",
       "\n",
       "[1682 rows x 2 columns]"
      ]
     },
     "execution_count": 23,
     "metadata": {},
     "output_type": "execute_result"
    }
   ],
   "source": [
    "avg_ratings"
   ]
  },
  {
   "cell_type": "code",
   "execution_count": 24,
   "id": "4eeca189-7a84-42bd-a788-65e729b91052",
   "metadata": {},
   "outputs": [],
   "source": [
    "# merge it with our original dataset for our user\n",
    "user1_df_ratings = user1_df.merge(avg_ratings, on = \"item_id\")"
   ]
  },
  {
   "cell_type": "code",
   "execution_count": 25,
   "id": "8d5f63a5-0cdc-4ab0-909d-1a57485138ac",
   "metadata": {},
   "outputs": [
    {
     "data": {
      "text/plain": [
       "(272, 25)"
      ]
     },
     "execution_count": 25,
     "metadata": {},
     "output_type": "execute_result"
    }
   ],
   "source": [
    "user1_df_ratings.shape"
   ]
  },
  {
   "cell_type": "code",
   "execution_count": 26,
   "id": "525b1080-3133-4757-a664-a25955a5c33a",
   "metadata": {},
   "outputs": [
    {
     "data": {
      "text/plain": [
       "(272, 24)"
      ]
     },
     "execution_count": 26,
     "metadata": {},
     "output_type": "execute_result"
    }
   ],
   "source": [
    "user1_df.shape"
   ]
  },
  {
   "cell_type": "code",
   "execution_count": 42,
   "id": "d99c7bad-bd81-447f-98e1-1850f02e959b",
   "metadata": {},
   "outputs": [
    {
     "name": "stdout",
     "output_type": "stream",
     "text": [
      "(272, 20)\n",
      "(272,)\n"
     ]
    }
   ],
   "source": [
    "# Need to retrain our model to include this info\n",
    "# same as code from above\n",
    "features = user1_df_ratings.columns[5:]\n",
    "X = user1_df_ratings[features]\n",
    "y = user1_df_ratings[\"rating\"]\n",
    "print(X.shape)\n",
    "print(y.shape)"
   ]
  },
  {
   "cell_type": "code",
   "execution_count": 28,
   "id": "1bb8cb62-e98c-4af8-9bf8-45388a3d0064",
   "metadata": {},
   "outputs": [],
   "source": [
    "# copt the code from earlier\n",
    "X_train, X_test, y_train, y_test = train_test_split(X, y, test_size = 0.05, random_state = 42)"
   ]
  },
  {
   "cell_type": "code",
   "execution_count": 29,
   "id": "f91b93fe-688a-46cf-9998-3bc6da504228",
   "metadata": {},
   "outputs": [
    {
     "data": {
      "text/plain": [
       "0.7575571642739953"
      ]
     },
     "execution_count": 29,
     "metadata": {},
     "output_type": "execute_result"
    }
   ],
   "source": [
    "# copy the code from earlier\n",
    "\n",
    "model = RandomForestRegressor()\n",
    "model.fit(X_train, y_train)\n",
    "\n",
    "y_pred = model.predict(X_test)\n",
    "\n",
    "score = mean_squared_error(y_test, y_pred)\n",
    "score = np.sqrt(score)\n",
    "score"
   ]
  },
  {
   "cell_type": "code",
   "execution_count": 30,
   "id": "9e161676-de0e-44a9-a04c-034e8ca8a1ec",
   "metadata": {},
   "outputs": [
    {
     "data": {
      "text/plain": [
       "array([[3, 4, 4, 3, 3, 4, 4, 5, 3, 1, 1, 1, 3, 5]])"
      ]
     },
     "execution_count": 30,
     "metadata": {},
     "output_type": "execute_result"
    }
   ],
   "source": [
    "# copy from earlier\n",
    "y_test = np.array(y_test).reshape(1,-1)\n",
    "y_test"
   ]
  },
  {
   "cell_type": "code",
   "execution_count": 31,
   "id": "a677f6e3-3aeb-42ec-ab0c-54514f7b49b6",
   "metadata": {},
   "outputs": [],
   "source": [
    "# copy from earlier\n",
    "y_test = y_test.reshape(-1,1)\n",
    "y_pred = y_pred.reshape(-1,1)\n",
    "results = pd.DataFrame(np.hstack((y_pred,y_test)), columns = [\"Pred\", \"Actual\"])\n",
    "results[\"Error\"] = np.abs(results[\"Pred\"] - results[\"Actual\"])"
   ]
  },
  {
   "cell_type": "code",
   "execution_count": 32,
   "id": "62e59972-6fdc-457d-8cf6-5ada7f4b8fda",
   "metadata": {},
   "outputs": [
    {
     "data": {
      "text/html": [
       "<div>\n",
       "<style scoped>\n",
       "    .dataframe tbody tr th:only-of-type {\n",
       "        vertical-align: middle;\n",
       "    }\n",
       "\n",
       "    .dataframe tbody tr th {\n",
       "        vertical-align: top;\n",
       "    }\n",
       "\n",
       "    .dataframe thead th {\n",
       "        text-align: right;\n",
       "    }\n",
       "</style>\n",
       "<table border=\"1\" class=\"dataframe\">\n",
       "  <thead>\n",
       "    <tr style=\"text-align: right;\">\n",
       "      <th></th>\n",
       "      <th>Pred</th>\n",
       "      <th>Actual</th>\n",
       "      <th>Error</th>\n",
       "    </tr>\n",
       "  </thead>\n",
       "  <tbody>\n",
       "    <tr>\n",
       "      <th>0</th>\n",
       "      <td>3.07</td>\n",
       "      <td>3.0</td>\n",
       "      <td>0.07</td>\n",
       "    </tr>\n",
       "    <tr>\n",
       "      <th>1</th>\n",
       "      <td>4.40</td>\n",
       "      <td>4.0</td>\n",
       "      <td>0.40</td>\n",
       "    </tr>\n",
       "    <tr>\n",
       "      <th>2</th>\n",
       "      <td>2.85</td>\n",
       "      <td>4.0</td>\n",
       "      <td>1.15</td>\n",
       "    </tr>\n",
       "    <tr>\n",
       "      <th>3</th>\n",
       "      <td>4.39</td>\n",
       "      <td>3.0</td>\n",
       "      <td>1.39</td>\n",
       "    </tr>\n",
       "    <tr>\n",
       "      <th>4</th>\n",
       "      <td>3.41</td>\n",
       "      <td>3.0</td>\n",
       "      <td>0.41</td>\n",
       "    </tr>\n",
       "    <tr>\n",
       "      <th>5</th>\n",
       "      <td>4.62</td>\n",
       "      <td>4.0</td>\n",
       "      <td>0.62</td>\n",
       "    </tr>\n",
       "    <tr>\n",
       "      <th>6</th>\n",
       "      <td>2.51</td>\n",
       "      <td>4.0</td>\n",
       "      <td>1.49</td>\n",
       "    </tr>\n",
       "    <tr>\n",
       "      <th>7</th>\n",
       "      <td>4.13</td>\n",
       "      <td>5.0</td>\n",
       "      <td>0.87</td>\n",
       "    </tr>\n",
       "    <tr>\n",
       "      <th>8</th>\n",
       "      <td>3.31</td>\n",
       "      <td>3.0</td>\n",
       "      <td>0.31</td>\n",
       "    </tr>\n",
       "    <tr>\n",
       "      <th>9</th>\n",
       "      <td>1.64</td>\n",
       "      <td>1.0</td>\n",
       "      <td>0.64</td>\n",
       "    </tr>\n",
       "    <tr>\n",
       "      <th>10</th>\n",
       "      <td>1.27</td>\n",
       "      <td>1.0</td>\n",
       "      <td>0.27</td>\n",
       "    </tr>\n",
       "    <tr>\n",
       "      <th>11</th>\n",
       "      <td>1.32</td>\n",
       "      <td>1.0</td>\n",
       "      <td>0.32</td>\n",
       "    </tr>\n",
       "    <tr>\n",
       "      <th>12</th>\n",
       "      <td>3.18</td>\n",
       "      <td>3.0</td>\n",
       "      <td>0.18</td>\n",
       "    </tr>\n",
       "    <tr>\n",
       "      <th>13</th>\n",
       "      <td>4.39</td>\n",
       "      <td>5.0</td>\n",
       "      <td>0.61</td>\n",
       "    </tr>\n",
       "  </tbody>\n",
       "</table>\n",
       "</div>"
      ],
      "text/plain": [
       "    Pred  Actual  Error\n",
       "0   3.07     3.0   0.07\n",
       "1   4.40     4.0   0.40\n",
       "2   2.85     4.0   1.15\n",
       "3   4.39     3.0   1.39\n",
       "4   3.41     3.0   0.41\n",
       "5   4.62     4.0   0.62\n",
       "6   2.51     4.0   1.49\n",
       "7   4.13     5.0   0.87\n",
       "8   3.31     3.0   0.31\n",
       "9   1.64     1.0   0.64\n",
       "10  1.27     1.0   0.27\n",
       "11  1.32     1.0   0.32\n",
       "12  3.18     3.0   0.18\n",
       "13  4.39     5.0   0.61"
      ]
     },
     "execution_count": 32,
     "metadata": {},
     "output_type": "execute_result"
    }
   ],
   "source": [
    "results\n",
    "# alot better"
   ]
  },
  {
   "cell_type": "markdown",
   "id": "3d6b4652-fd12-4d8a-a6ed-34ed04c69b07",
   "metadata": {},
   "source": [
    "# Generate some better recommendations"
   ]
  },
  {
   "cell_type": "code",
   "execution_count": 33,
   "id": "31a9abc1-369e-4374-b800-2b900824e1c8",
   "metadata": {},
   "outputs": [
    {
     "data": {
      "text/html": [
       "<div>\n",
       "<style scoped>\n",
       "    .dataframe tbody tr th:only-of-type {\n",
       "        vertical-align: middle;\n",
       "    }\n",
       "\n",
       "    .dataframe tbody tr th {\n",
       "        vertical-align: top;\n",
       "    }\n",
       "\n",
       "    .dataframe thead th {\n",
       "        text-align: right;\n",
       "    }\n",
       "</style>\n",
       "<table border=\"1\" class=\"dataframe\">\n",
       "  <thead>\n",
       "    <tr style=\"text-align: right;\">\n",
       "      <th></th>\n",
       "      <th>item_id</th>\n",
       "      <th>user_id</th>\n",
       "      <th>rating</th>\n",
       "      <th>movie_id</th>\n",
       "      <th>title</th>\n",
       "      <th>unknown</th>\n",
       "      <th>Action</th>\n",
       "      <th>Adventure</th>\n",
       "      <th>Animation</th>\n",
       "      <th>Children's</th>\n",
       "      <th>...</th>\n",
       "      <th>Fantasy</th>\n",
       "      <th>Film-Noir</th>\n",
       "      <th>Horror</th>\n",
       "      <th>Musical</th>\n",
       "      <th>Mystery</th>\n",
       "      <th>Romance</th>\n",
       "      <th>Sci-Fi</th>\n",
       "      <th>Thriller</th>\n",
       "      <th>War</th>\n",
       "      <th>Western</th>\n",
       "    </tr>\n",
       "  </thead>\n",
       "  <tbody>\n",
       "    <tr>\n",
       "      <th>0</th>\n",
       "      <td>273</td>\n",
       "      <td>213</td>\n",
       "      <td>5</td>\n",
       "      <td>273</td>\n",
       "      <td>Heat (1995)</td>\n",
       "      <td>0</td>\n",
       "      <td>1</td>\n",
       "      <td>0</td>\n",
       "      <td>0</td>\n",
       "      <td>0</td>\n",
       "      <td>...</td>\n",
       "      <td>0</td>\n",
       "      <td>0</td>\n",
       "      <td>0</td>\n",
       "      <td>0</td>\n",
       "      <td>0</td>\n",
       "      <td>0</td>\n",
       "      <td>0</td>\n",
       "      <td>1</td>\n",
       "      <td>0</td>\n",
       "      <td>0</td>\n",
       "    </tr>\n",
       "    <tr>\n",
       "      <th>1</th>\n",
       "      <td>274</td>\n",
       "      <td>194</td>\n",
       "      <td>2</td>\n",
       "      <td>274</td>\n",
       "      <td>Sabrina (1995)</td>\n",
       "      <td>0</td>\n",
       "      <td>0</td>\n",
       "      <td>0</td>\n",
       "      <td>0</td>\n",
       "      <td>0</td>\n",
       "      <td>...</td>\n",
       "      <td>0</td>\n",
       "      <td>0</td>\n",
       "      <td>0</td>\n",
       "      <td>0</td>\n",
       "      <td>0</td>\n",
       "      <td>1</td>\n",
       "      <td>0</td>\n",
       "      <td>0</td>\n",
       "      <td>0</td>\n",
       "      <td>0</td>\n",
       "    </tr>\n",
       "    <tr>\n",
       "      <th>2</th>\n",
       "      <td>275</td>\n",
       "      <td>145</td>\n",
       "      <td>2</td>\n",
       "      <td>275</td>\n",
       "      <td>Sense and Sensibility (1995)</td>\n",
       "      <td>0</td>\n",
       "      <td>0</td>\n",
       "      <td>0</td>\n",
       "      <td>0</td>\n",
       "      <td>0</td>\n",
       "      <td>...</td>\n",
       "      <td>0</td>\n",
       "      <td>0</td>\n",
       "      <td>0</td>\n",
       "      <td>0</td>\n",
       "      <td>0</td>\n",
       "      <td>1</td>\n",
       "      <td>0</td>\n",
       "      <td>0</td>\n",
       "      <td>0</td>\n",
       "      <td>0</td>\n",
       "    </tr>\n",
       "    <tr>\n",
       "      <th>3</th>\n",
       "      <td>276</td>\n",
       "      <td>178</td>\n",
       "      <td>3</td>\n",
       "      <td>276</td>\n",
       "      <td>Leaving Las Vegas (1995)</td>\n",
       "      <td>0</td>\n",
       "      <td>0</td>\n",
       "      <td>0</td>\n",
       "      <td>0</td>\n",
       "      <td>0</td>\n",
       "      <td>...</td>\n",
       "      <td>0</td>\n",
       "      <td>0</td>\n",
       "      <td>0</td>\n",
       "      <td>0</td>\n",
       "      <td>0</td>\n",
       "      <td>1</td>\n",
       "      <td>0</td>\n",
       "      <td>0</td>\n",
       "      <td>0</td>\n",
       "      <td>0</td>\n",
       "    </tr>\n",
       "    <tr>\n",
       "      <th>4</th>\n",
       "      <td>277</td>\n",
       "      <td>63</td>\n",
       "      <td>4</td>\n",
       "      <td>277</td>\n",
       "      <td>Restoration (1995)</td>\n",
       "      <td>0</td>\n",
       "      <td>0</td>\n",
       "      <td>0</td>\n",
       "      <td>0</td>\n",
       "      <td>0</td>\n",
       "      <td>...</td>\n",
       "      <td>0</td>\n",
       "      <td>0</td>\n",
       "      <td>0</td>\n",
       "      <td>0</td>\n",
       "      <td>0</td>\n",
       "      <td>0</td>\n",
       "      <td>0</td>\n",
       "      <td>0</td>\n",
       "      <td>0</td>\n",
       "      <td>0</td>\n",
       "    </tr>\n",
       "    <tr>\n",
       "      <th>...</th>\n",
       "      <td>...</td>\n",
       "      <td>...</td>\n",
       "      <td>...</td>\n",
       "      <td>...</td>\n",
       "      <td>...</td>\n",
       "      <td>...</td>\n",
       "      <td>...</td>\n",
       "      <td>...</td>\n",
       "      <td>...</td>\n",
       "      <td>...</td>\n",
       "      <td>...</td>\n",
       "      <td>...</td>\n",
       "      <td>...</td>\n",
       "      <td>...</td>\n",
       "      <td>...</td>\n",
       "      <td>...</td>\n",
       "      <td>...</td>\n",
       "      <td>...</td>\n",
       "      <td>...</td>\n",
       "      <td>...</td>\n",
       "      <td>...</td>\n",
       "    </tr>\n",
       "    <tr>\n",
       "      <th>1405</th>\n",
       "      <td>1678</td>\n",
       "      <td>863</td>\n",
       "      <td>1</td>\n",
       "      <td>1678</td>\n",
       "      <td>Mat' i syn (1997)</td>\n",
       "      <td>0</td>\n",
       "      <td>0</td>\n",
       "      <td>0</td>\n",
       "      <td>0</td>\n",
       "      <td>0</td>\n",
       "      <td>...</td>\n",
       "      <td>0</td>\n",
       "      <td>0</td>\n",
       "      <td>0</td>\n",
       "      <td>0</td>\n",
       "      <td>0</td>\n",
       "      <td>0</td>\n",
       "      <td>0</td>\n",
       "      <td>0</td>\n",
       "      <td>0</td>\n",
       "      <td>0</td>\n",
       "    </tr>\n",
       "    <tr>\n",
       "      <th>1406</th>\n",
       "      <td>1679</td>\n",
       "      <td>863</td>\n",
       "      <td>3</td>\n",
       "      <td>1679</td>\n",
       "      <td>B. Monkey (1998)</td>\n",
       "      <td>0</td>\n",
       "      <td>0</td>\n",
       "      <td>0</td>\n",
       "      <td>0</td>\n",
       "      <td>0</td>\n",
       "      <td>...</td>\n",
       "      <td>0</td>\n",
       "      <td>0</td>\n",
       "      <td>0</td>\n",
       "      <td>0</td>\n",
       "      <td>0</td>\n",
       "      <td>1</td>\n",
       "      <td>0</td>\n",
       "      <td>1</td>\n",
       "      <td>0</td>\n",
       "      <td>0</td>\n",
       "    </tr>\n",
       "    <tr>\n",
       "      <th>1407</th>\n",
       "      <td>1680</td>\n",
       "      <td>863</td>\n",
       "      <td>2</td>\n",
       "      <td>1680</td>\n",
       "      <td>Sliding Doors (1998)</td>\n",
       "      <td>0</td>\n",
       "      <td>0</td>\n",
       "      <td>0</td>\n",
       "      <td>0</td>\n",
       "      <td>0</td>\n",
       "      <td>...</td>\n",
       "      <td>0</td>\n",
       "      <td>0</td>\n",
       "      <td>0</td>\n",
       "      <td>0</td>\n",
       "      <td>0</td>\n",
       "      <td>1</td>\n",
       "      <td>0</td>\n",
       "      <td>0</td>\n",
       "      <td>0</td>\n",
       "      <td>0</td>\n",
       "    </tr>\n",
       "    <tr>\n",
       "      <th>1408</th>\n",
       "      <td>1681</td>\n",
       "      <td>896</td>\n",
       "      <td>3</td>\n",
       "      <td>1681</td>\n",
       "      <td>You So Crazy (1994)</td>\n",
       "      <td>0</td>\n",
       "      <td>0</td>\n",
       "      <td>0</td>\n",
       "      <td>0</td>\n",
       "      <td>0</td>\n",
       "      <td>...</td>\n",
       "      <td>0</td>\n",
       "      <td>0</td>\n",
       "      <td>0</td>\n",
       "      <td>0</td>\n",
       "      <td>0</td>\n",
       "      <td>0</td>\n",
       "      <td>0</td>\n",
       "      <td>0</td>\n",
       "      <td>0</td>\n",
       "      <td>0</td>\n",
       "    </tr>\n",
       "    <tr>\n",
       "      <th>1409</th>\n",
       "      <td>1682</td>\n",
       "      <td>916</td>\n",
       "      <td>3</td>\n",
       "      <td>1682</td>\n",
       "      <td>Scream of Stone (Schrei aus Stein) (1991)</td>\n",
       "      <td>0</td>\n",
       "      <td>0</td>\n",
       "      <td>0</td>\n",
       "      <td>0</td>\n",
       "      <td>0</td>\n",
       "      <td>...</td>\n",
       "      <td>0</td>\n",
       "      <td>0</td>\n",
       "      <td>0</td>\n",
       "      <td>0</td>\n",
       "      <td>0</td>\n",
       "      <td>0</td>\n",
       "      <td>0</td>\n",
       "      <td>0</td>\n",
       "      <td>0</td>\n",
       "      <td>0</td>\n",
       "    </tr>\n",
       "  </tbody>\n",
       "</table>\n",
       "<p>1410 rows × 24 columns</p>\n",
       "</div>"
      ],
      "text/plain": [
       "      item_id  user_id  rating  movie_id  \\\n",
       "0         273      213       5       273   \n",
       "1         274      194       2       274   \n",
       "2         275      145       2       275   \n",
       "3         276      178       3       276   \n",
       "4         277       63       4       277   \n",
       "...       ...      ...     ...       ...   \n",
       "1405     1678      863       1      1678   \n",
       "1406     1679      863       3      1679   \n",
       "1407     1680      863       2      1680   \n",
       "1408     1681      896       3      1681   \n",
       "1409     1682      916       3      1682   \n",
       "\n",
       "                                          title  unknown  Action  Adventure  \\\n",
       "0                                   Heat (1995)        0       1          0   \n",
       "1                                Sabrina (1995)        0       0          0   \n",
       "2                  Sense and Sensibility (1995)        0       0          0   \n",
       "3                      Leaving Las Vegas (1995)        0       0          0   \n",
       "4                            Restoration (1995)        0       0          0   \n",
       "...                                         ...      ...     ...        ...   \n",
       "1405                          Mat' i syn (1997)        0       0          0   \n",
       "1406                           B. Monkey (1998)        0       0          0   \n",
       "1407                       Sliding Doors (1998)        0       0          0   \n",
       "1408                        You So Crazy (1994)        0       0          0   \n",
       "1409  Scream of Stone (Schrei aus Stein) (1991)        0       0          0   \n",
       "\n",
       "      Animation  Children's  ...  Fantasy  Film-Noir  Horror  Musical  \\\n",
       "0             0           0  ...        0          0       0        0   \n",
       "1             0           0  ...        0          0       0        0   \n",
       "2             0           0  ...        0          0       0        0   \n",
       "3             0           0  ...        0          0       0        0   \n",
       "4             0           0  ...        0          0       0        0   \n",
       "...         ...         ...  ...      ...        ...     ...      ...   \n",
       "1405          0           0  ...        0          0       0        0   \n",
       "1406          0           0  ...        0          0       0        0   \n",
       "1407          0           0  ...        0          0       0        0   \n",
       "1408          0           0  ...        0          0       0        0   \n",
       "1409          0           0  ...        0          0       0        0   \n",
       "\n",
       "      Mystery  Romance  Sci-Fi  Thriller  War  Western  \n",
       "0           0        0       0         1    0        0  \n",
       "1           0        1       0         0    0        0  \n",
       "2           0        1       0         0    0        0  \n",
       "3           0        1       0         0    0        0  \n",
       "4           0        0       0         0    0        0  \n",
       "...       ...      ...     ...       ...  ...      ...  \n",
       "1405        0        0       0         0    0        0  \n",
       "1406        0        1       0         1    0        0  \n",
       "1407        0        1       0         0    0        0  \n",
       "1408        0        0       0         0    0        0  \n",
       "1409        0        0       0         0    0        0  \n",
       "\n",
       "[1410 rows x 24 columns]"
      ]
     },
     "execution_count": 33,
     "metadata": {},
     "output_type": "execute_result"
    }
   ],
   "source": [
    "unseen_df"
   ]
  },
  {
   "cell_type": "code",
   "execution_count": 34,
   "id": "e00ffdc1-965f-4b79-aab3-cd0e90b6ff0f",
   "metadata": {},
   "outputs": [
    {
     "name": "stdout",
     "output_type": "stream",
     "text": [
      "(1410, 20)\n"
     ]
    }
   ],
   "source": [
    "# merge average ratings and extract features\n",
    "unseen_df = unseen_df.merge(avg_ratings, on = \"item_id\")\n",
    "unseen_features = unseen_df.columns[5:]\n",
    "unseen_X = unseen_df[unseen_features]\n",
    "print(unseen_X.shape)"
   ]
  },
  {
   "cell_type": "code",
   "execution_count": 35,
   "id": "e7ffecfe-2691-409b-81bf-9c20e651aac3",
   "metadata": {},
   "outputs": [],
   "source": [
    "# predict \n",
    "ratings = model.predict(unseen_X)"
   ]
  },
  {
   "cell_type": "code",
   "execution_count": 36,
   "id": "5ae699c9-8504-4862-9176-b98869689fc0",
   "metadata": {},
   "outputs": [
    {
     "data": {
      "text/plain": [
       "array([3.45, 4.54, 4.41, ..., 2.  , 2.94, 2.3 ])"
      ]
     },
     "execution_count": 36,
     "metadata": {},
     "output_type": "execute_result"
    }
   ],
   "source": [
    "ratings"
   ]
  },
  {
   "cell_type": "code",
   "execution_count": 37,
   "id": "876a314b-8e49-4b9e-9e70-c3b418149285",
   "metadata": {},
   "outputs": [
    {
     "data": {
      "text/plain": [
       "array([ 541, 1321,  928,  254,  359])"
      ]
     },
     "execution_count": 37,
     "metadata": {},
     "output_type": "execute_result"
    }
   ],
   "source": [
    "#Pull top 5\n",
    "\n",
    "top5_indices = ratings.argsort()[-5:][::-1]\n",
    "top5_indices"
   ]
  },
  {
   "cell_type": "code",
   "execution_count": 38,
   "id": "31a23d1d-ac35-43d6-88a4-a718b3cf1afd",
   "metadata": {},
   "outputs": [
    {
     "name": "stdout",
     "output_type": "stream",
     "text": [
      "5.0\n"
     ]
    },
    {
     "data": {
      "text/plain": [
       "item_id                  1594\n",
       "user_id                   532\n",
       "rating                      4\n",
       "movie_id                 1594\n",
       "title          Everest (1998)\n",
       "unknown                     0\n",
       "Action                      0\n",
       "Adventure                   0\n",
       "Animation                   0\n",
       "Children's                  0\n",
       "Comedy                      0\n",
       "Crime                       0\n",
       "Documentary                 1\n",
       "Drama                       0\n",
       "Fantasy                     0\n",
       "Film-Noir                   0\n",
       "Horror                      0\n",
       "Musical                     0\n",
       "Mystery                     0\n",
       "Romance                     0\n",
       "Sci-Fi                      0\n",
       "Thriller                    0\n",
       "War                         0\n",
       "Western                     0\n",
       "avg_rating                4.5\n",
       "Name: 1321, dtype: object"
      ]
     },
     "execution_count": 38,
     "metadata": {},
     "output_type": "execute_result"
    }
   ],
   "source": [
    "print(ratings[1321])\n",
    "unseen_df.iloc[1321]"
   ]
  },
  {
   "cell_type": "code",
   "execution_count": 39,
   "id": "858d0b43-e3b7-4ff1-8435-7e0872bfa0a7",
   "metadata": {},
   "outputs": [
    {
     "name": "stdout",
     "output_type": "stream",
     "text": [
      "5.0\n"
     ]
    },
    {
     "data": {
      "text/plain": [
       "item_id                                              1201\n",
       "user_id                                                90\n",
       "rating                                                  5\n",
       "movie_id                                             1201\n",
       "title          Marlene Dietrich: Shadow and Light (1996) \n",
       "unknown                                                 0\n",
       "Action                                                  0\n",
       "Adventure                                               0\n",
       "Animation                                               0\n",
       "Children's                                              0\n",
       "Comedy                                                  0\n",
       "Crime                                                   0\n",
       "Documentary                                             1\n",
       "Drama                                                   0\n",
       "Fantasy                                                 0\n",
       "Film-Noir                                               0\n",
       "Horror                                                  0\n",
       "Musical                                                 0\n",
       "Mystery                                                 0\n",
       "Romance                                                 0\n",
       "Sci-Fi                                                  0\n",
       "Thriller                                                0\n",
       "War                                                     0\n",
       "Western                                                 0\n",
       "avg_rating                                            5.0\n",
       "Name: 928, dtype: object"
      ]
     },
     "execution_count": 39,
     "metadata": {},
     "output_type": "execute_result"
    }
   ],
   "source": [
    "print(ratings[928])\n",
    "unseen_df.iloc[928]"
   ]
  },
  {
   "cell_type": "code",
   "execution_count": 40,
   "id": "1f9878e8-0d78-42e9-802f-42b2070dbcd0",
   "metadata": {},
   "outputs": [
    {
     "name": "stdout",
     "output_type": "stream",
     "text": [
      "5.0\n"
     ]
    },
    {
     "data": {
      "text/plain": [
       "item_id                                  814\n",
       "user_id                                   13\n",
       "rating                                     5\n",
       "movie_id                                 814\n",
       "title          Great Day in Harlem, A (1994)\n",
       "unknown                                    0\n",
       "Action                                     0\n",
       "Adventure                                  0\n",
       "Animation                                  0\n",
       "Children's                                 0\n",
       "Comedy                                     0\n",
       "Crime                                      0\n",
       "Documentary                                1\n",
       "Drama                                      0\n",
       "Fantasy                                    0\n",
       "Film-Noir                                  0\n",
       "Horror                                     0\n",
       "Musical                                    0\n",
       "Mystery                                    0\n",
       "Romance                                    0\n",
       "Sci-Fi                                     0\n",
       "Thriller                                   0\n",
       "War                                        0\n",
       "Western                                    0\n",
       "avg_rating                               5.0\n",
       "Name: 541, dtype: object"
      ]
     },
     "execution_count": 40,
     "metadata": {},
     "output_type": "execute_result"
    }
   ],
   "source": [
    "print(ratings[541])\n",
    "unseen_df.iloc[541]"
   ]
  },
  {
   "cell_type": "code",
   "execution_count": 41,
   "id": "5bd5b433-7c49-46d9-9d5f-c6cde1b2aaa4",
   "metadata": {},
   "outputs": [
    {
     "name": "stdout",
     "output_type": "stream",
     "text": [
      "4.95\n"
     ]
    },
    {
     "data": {
      "text/plain": [
       "item_id                                  1122\n",
       "user_id                                    60\n",
       "rating                                      5\n",
       "movie_id                                 1122\n",
       "title          They Made Me a Criminal (1939)\n",
       "unknown                                     0\n",
       "Action                                      0\n",
       "Adventure                                   0\n",
       "Animation                                   0\n",
       "Children's                                  0\n",
       "Comedy                                      0\n",
       "Crime                                       1\n",
       "Documentary                                 0\n",
       "Drama                                       1\n",
       "Fantasy                                     0\n",
       "Film-Noir                                   0\n",
       "Horror                                      0\n",
       "Musical                                     0\n",
       "Mystery                                     0\n",
       "Romance                                     0\n",
       "Sci-Fi                                      0\n",
       "Thriller                                    0\n",
       "War                                         0\n",
       "Western                                     0\n",
       "avg_rating                                5.0\n",
       "Name: 849, dtype: object"
      ]
     },
     "execution_count": 41,
     "metadata": {},
     "output_type": "execute_result"
    }
   ],
   "source": [
    "print(ratings[849])\n",
    "unseen_df.iloc[849]"
   ]
  },
  {
   "cell_type": "code",
   "execution_count": null,
   "id": "36550db1-2058-4355-afe0-6c4a036c62f2",
   "metadata": {},
   "outputs": [],
   "source": []
  }
 ],
 "metadata": {
  "kernelspec": {
   "display_name": "Python 3 (ipykernel)",
   "language": "python",
   "name": "python3"
  },
  "language_info": {
   "codemirror_mode": {
    "name": "ipython",
    "version": 3
   },
   "file_extension": ".py",
   "mimetype": "text/x-python",
   "name": "python",
   "nbconvert_exporter": "python",
   "pygments_lexer": "ipython3",
   "version": "3.10.6"
  }
 },
 "nbformat": 4,
 "nbformat_minor": 5
}
